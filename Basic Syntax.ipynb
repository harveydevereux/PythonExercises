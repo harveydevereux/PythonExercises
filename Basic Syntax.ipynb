{
 "cells": [
  {
   "cell_type": "markdown",
   "metadata": {},
   "source": [
    "### What Is Programming?\n",
    "\n",
    "Progrmming is a method of instructing a computer. These\n",
    "can be complex like running a game or as simple as calculating $1+1$\n",
    "\n",
    "Programming languages represent the varied ways we write these\n",
    "instructions as text.\n",
    "\n",
    "Some languages are ''close to the machine'' in that they appear as\n",
    "archaic instructions or even a whole file of $1$s and $0$s. Others\n",
    "are much more human interpretable, putting more layers between the human and the machine.\n",
    "\n",
    "In the end though all programming languages are eventually converted into strings of $1$s and $0$s, since a computer only\n",
    "works with binary signals (like many lightbulbs switching on and off).\n",
    "\n",
    "The reason for the binary nature of the computer is it's equivalence to logic i.e $1$ is equivalent to ```true/on``` and $0$ to ```false/off``` and the ease of representing ```on``` and ```off``` as electrical circuitry. These ''switches'' are combined into more ellaborate circuits to perform logical operations and store memory.\n",
    "\n",
    "Two current edges of computational research are investigating both\n",
    "Quantum and DNA computing. In these cases the machine works not\n",
    "with $1$s and $0$s but with superpositions of the binary states\n",
    "or the four character genetic alphabet of the DNA."
   ]
  },
  {
   "cell_type": "markdown",
   "metadata": {},
   "source": [
    "### Python and Data Science\n",
    "\n",
    "Python is the most popular language for data science applications\n",
    "in the work place. Although not the fastest by far due to the\n",
    "structure of the language. \n",
    "\n",
    "It's main advantage is its popularity. Not only do more companies\n",
    "ask for proficiency but the popularity is reflected in the abundant \n",
    "online learning resources available, especially the amount compared\n",
    "with other languages. This makes Python the best starting point\n",
    "in Machine Learning Data Science, and as a general first language.\n",
    "\n",
    "![alt text](job-postings-data-science-by-language.png)\n",
    "\n",
    "![alt text](julia-is-fast.svg)"
   ]
  },
  {
   "cell_type": "markdown",
   "metadata": {},
   "source": [
    "### The Basics; Syntax and Data Types\n",
    "\n",
    "Python is an \"interpreted\" language which means it scans line by\n",
    "line to execute the code (although first it does a basic syntax check) when it is run. \n",
    "\n",
    "Some languages are \"compliled\" which means they are first converted into \"machine code\" which runs\n",
    "efficiently at a \"low level\". The advantage of this is that the run time is faster, \n",
    "but often the programming is more involved.\n",
    "\n",
    "Python like all languages represents different forms of data such as\n",
    "numbers and text (and user defined data types) to be manipulated.\n",
    "\n",
    "Each form of data has a built in \"Type\" associated with it. For example text has the ```<class str>``` (String) type \n",
    "and numbers have Int and Float (plus more) for integers and decimal numbers. The function ```type()``` gives the\n",
    "Python type.\n",
    "\n",
    "A class is a defined data object that can be manipulated, created, and destroyed. Classes/Objects represent \n",
    "everything in Python, and can coded by a programer.\n",
    "\n",
    "Comments are text that we want Python to ignore (not interpret) is pre-fixed with ```#```\n",
    "to form a comment\n",
    "```Python\n",
    "# all symbols after this are ignored by the Python interpreter\n",
    "```\n",
    "Anything else, Python will try to execute.\n",
    "\n",
    "Python uses a strict layout system to promote consistency and readable code. This becomes\n",
    "importatn for: classes, functions, for/while loops, and if/elif/else statements as we will cover later\n",
    "on.\n",
    "\n",
    "#### Many of this may not make sense but will do after studying and trying things out for a while!"
   ]
  },
  {
   "cell_type": "markdown",
   "metadata": {},
   "source": [
    "### Jupyter Notebook\n",
    "\n",
    "This content is all written in jupyter notebook. \n",
    "\n",
    "This allows you to interact with a \"live\" Python interpreter in a cell based way. \n",
    "\n",
    "Each cell can have text (markdown) or Python code to execute.\n",
    "\n",
    "Memory is shared across cells.\n",
    "\n",
    "Python can also be run as scripts marked as ```.py``` files from a terminal in linux or \n",
    "the ```cmd``` application in windows.\n",
    "\n",
    "Jupyter notebooks make for a nice convenient way to test and share code, but the\n",
    "full professional environment will usually be an Integrated Developement Environment (IDE)\n",
    "with a different set of nice features."
   ]
  },
  {
   "cell_type": "markdown",
   "metadata": {},
   "source": [
    "#### Strings and Printing\n",
    "\n",
    "We will start by writing text objects and printing them.\n",
    "\n",
    "Below we use the \n",
    "```Python\n",
    "print()\n",
    "``` \n",
    "statement to write text as output. \n",
    "\n",
    "This is useful for user interaction (prompts) and logging code \n",
    "during runtime (reports of what's going on).\n",
    "\n",
    "Strings also come with many operations and are often processed in data science problems."
   ]
  },
  {
   "cell_type": "code",
   "execution_count": 33,
   "metadata": {},
   "outputs": [
    {
     "name": "stdout",
     "output_type": "stream",
     "text": [
      "Text is represented by \" \" or ' ' with letters or numbers inside\n",
      "and printed using the inbuilt print() function.\n",
      "\n",
      "Text has the type:  <class 'str'>\n"
     ]
    }
   ],
   "source": [
    "print(\"Text is represented by \\\" \\\" or \\' \\' with letters or numbers inside\\nand printed using the inbuilt print() function.\")\n",
    "# type() tells us the objects name in Python\n",
    "print(\"\\nText has the type: \",type(\"a string\"))"
   ]
  },
  {
   "cell_type": "markdown",
   "metadata": {},
   "source": [
    "Above the string is created by putting normal text inside of \n",
    "```Python\n",
    "\" \"```\n",
    "or\n",
    "```Python\n",
    "' '```\n",
    "We also use special charaters to write newlines (\"enters\") in text\n",
    "```Python\n",
    "\\n\n",
    "```\n",
    "and to write the symbols \" and ' as text\n",
    "```Python\n",
    "\\\"\n",
    "\\'```"
   ]
  },
  {
   "cell_type": "markdown",
   "metadata": {},
   "source": [
    "#### Try printing the string: Hello, World!"
   ]
  },
  {
   "cell_type": "markdown",
   "metadata": {},
   "source": []
  },
  {
   "cell_type": "markdown",
   "metadata": {},
   "source": [
    "In Python strings can be operated on, we can add and\n",
    "multiply (concaternate) strings like so"
   ]
  },
  {
   "cell_type": "code",
   "execution_count": 28,
   "metadata": {},
   "outputs": [
    {
     "name": "stdout",
     "output_type": "stream",
     "text": [
      "Hello World\n",
      "Hello, Hello, Hello, Hello, World\n"
     ]
    }
   ],
   "source": [
    "print(\"Hello\" + \" World\")\n",
    "print(\"Hello, \"*4 + \"World\")"
   ]
  },
  {
   "cell_type": "markdown",
   "metadata": {},
   "source": [
    "#### Try to use only the ```print()``` function, the newline character ```\\n``` and ```*``` on one line of code to print out the string \n",
    "```\n",
    "Hello\n",
    "Hello\n",
    "Hello\n",
    "Hello\n",
    "Hello\n",
    "```"
   ]
  },
  {
   "cell_type": "code",
   "execution_count": null,
   "metadata": {},
   "outputs": [],
   "source": []
  },
  {
   "cell_type": "markdown",
   "metadata": {},
   "source": [
    "#### Strings are objects\n",
    "\n",
    "Strings are types with their own function associated with them. \n",
    "\n",
    "Any object may have certain member functions called with a ```.``` such as\n",
    "```Python\n",
    "\"hello\".upper()\n",
    "\"alwqdr\".count()\n",
    "```\n",
    "#### Try printing these to see what ```.upper()``` and ```.count(\"l\")``` do"
   ]
  },
  {
   "cell_type": "code",
   "execution_count": null,
   "metadata": {},
   "outputs": [],
   "source": []
  },
  {
   "cell_type": "markdown",
   "metadata": {},
   "source": [
    "#### Numbers\n",
    "\n",
    "Python supports many basic mathematical operations as expected.\n",
    "\n",
    "Importantly we have two major types of number, the integer and the float (decimal number) which\n",
    "behave differently in some situations.\n",
    "\n",
    "An integer is always represented without the decimal point\n",
    "```Python\n",
    "1 # an integer\n",
    "1. # a float\n",
    "1.0000001 # another float\n",
    "1e6 # shorthand for big numbers = 10^6\n",
    "1e-6 # or small numbers = 10^(-6)\n",
    "```\n",
    "\n",
    "As shown below the most basic operations are addition ```+```, subtraction ```-```, multiplication ```*```,\n",
    "exponentiation ```**```, *integer* division ``` //```, float (decimal) division ```/```, and modulus\n",
    "(remainder after integer division) ```%```.\n",
    "\n",
    "Notice also that precedence can be forced using ```()``` as expected.\n",
    "\n",
    "#### Below are some examples "
   ]
  },
  {
   "cell_type": "code",
   "execution_count": 9,
   "metadata": {},
   "outputs": [
    {
     "name": "stdout",
     "output_type": "stream",
     "text": [
      "1 + 1 =  2\n",
      "6 - 7  -1\n",
      "4 * 5 =  20\n",
      "5^2 =  25\n",
      "5 / 6 = 0.8333333333333334\n",
      "5 // 6 =  0\n",
      "-4 // 2 =  -2\n",
      "7 % 6 =  1\n",
      "(5 + 6) / 2 =  5.5\n",
      " 5 + 6 / 2 =  8.0\n",
      "10**(-6) - 1e-6 = 0.0\n",
      "1.425e3 =  1425.0\n"
     ]
    }
   ],
   "source": [
    "print(\"1 + 1 = \",1+1)\n",
    "print(\"6 - 7 \",6-7)\n",
    "print(\"4 * 5 = \",4*5)\n",
    "print(\"5^2 = \",5**2) # 5^2\n",
    "print(\"5 / 6 =\",5 / 6)\n",
    "print(\"5 // 6 = \",5 // 6) # Integer division is 0 if a fractional value is returned\n",
    "print(\"-4 // 2 = \",-4 // 2) # or non zero if integer numbers can be divided\n",
    "print(\"7 % 6 = \",7 % 6) # remainder after division\n",
    "print(\"(5 + 6) / 2 = \",(5+6)/2) # brackets for precedence\n",
    "print(\" 5 + 6 / 2 = \", 5+6/2)\n",
    "print(\"10**(-6) - 1e-6 =\", 10**(-6) - 1e-6)\n",
    "print(\"1.425e3 = \", 1.425e3)"
   ]
  },
  {
   "cell_type": "markdown",
   "metadata": {},
   "source": [
    "#### Logic\n",
    "\n",
    "Python supports basic logic with\n",
    "```Python\n",
    "True\n",
    "False\n",
    "```\n",
    "\n",
    "as well as mathematical logic statements\n",
    "```Python\n",
    "> # greater than\n",
    "< # less than\n",
    ">= # greater than or equal\n",
    "<= # less than or equal\n",
    "== # is equal to\n",
    "!= # is not equal to\n",
    "```\n",
    "\n",
    "and Boolean logical operations\n",
    "\n",
    "```Python\n",
    "and\n",
    "not\n",
    "or\n",
    "```"
   ]
  },
  {
   "cell_type": "code",
   "execution_count": 170,
   "metadata": {},
   "outputs": [
    {
     "name": "stdout",
     "output_type": "stream",
     "text": [
      "1 > 5  False\n",
      "5 < 7  True\n",
      "1 <= 1  True\n",
      "1 == 1  True\n",
      "5 != 0  True\n",
      "1.0 == 1  True\n",
      "1 and 0  0\n",
      "0 and 0  0\n",
      "1 or 0  1\n",
      "not (1 == 0)  True\n"
     ]
    }
   ],
   "source": [
    "print(\"1 > 5 \", 1 > 5)\n",
    "print(\"5 < 7 \", 5 < 7)\n",
    "print(\"1 <= 1 \", 1 <= 1)\n",
    "print(\"1 == 1 \",1 == 1)\n",
    "print(\"5 != 0 \", 5 != 0)\n",
    "print(\"1.0 == 1 \", 1.0 == 1)\n",
    "\n",
    "print(\"1 and 0 \", 1 and 0)\n",
    "print(\"0 and 0 \", 0 and 0)\n",
    "print(\"1 or 0 \", 1 or 0)\n",
    "print(\"not (1 == 0) \", not (1 == 0))"
   ]
  },
  {
   "cell_type": "markdown",
   "metadata": {},
   "source": [
    "#### Strings are \"lists\" stored in memory\n",
    "\n",
    "We can access individual characters of a string by using \"array addressing/indexing\" \n",
    "syntax ```array_name[1]``` acceses the *second* element of array_name (Python indexes from 0)"
   ]
  },
  {
   "cell_type": "code",
   "execution_count": 26,
   "metadata": {},
   "outputs": [
    {
     "name": "stdout",
     "output_type": "stream",
     "text": [
      "\"Hello\"[0] =  H\n",
      "\"Hello\"[-1] =  o\n",
      "\"Hello\"[2] =  l\n",
      "\"Hello\"[8] = Error!\n"
     ]
    },
    {
     "ename": "IndexError",
     "evalue": "string index out of range",
     "output_type": "error",
     "traceback": [
      "\u001b[0;31m---------------------------------------------------------------------------\u001b[0m",
      "\u001b[0;31mIndexError\u001b[0m                                Traceback (most recent call last)",
      "\u001b[0;32m<ipython-input-26-9219f552059b>\u001b[0m in \u001b[0;36m<module>\u001b[0;34m()\u001b[0m\n\u001b[1;32m      4\u001b[0m \u001b[0;31m# going further than allowed produces an error!\u001b[0m\u001b[0;34m\u001b[0m\u001b[0;34m\u001b[0m\u001b[0m\n\u001b[1;32m      5\u001b[0m \u001b[0mprint\u001b[0m\u001b[0;34m(\u001b[0m\u001b[0;34m\"\\\"Hello\\\"[8] = Error!\"\u001b[0m\u001b[0;34m)\u001b[0m\u001b[0;34m\u001b[0m\u001b[0m\n\u001b[0;32m----> 6\u001b[0;31m \u001b[0mprint\u001b[0m\u001b[0;34m(\u001b[0m\u001b[0;34m\"Hello\"\u001b[0m\u001b[0;34m[\u001b[0m\u001b[0;36m8\u001b[0m\u001b[0;34m]\u001b[0m\u001b[0;34m)\u001b[0m\u001b[0;34m\u001b[0m\u001b[0m\n\u001b[0m",
      "\u001b[0;31mIndexError\u001b[0m: string index out of range"
     ]
    }
   ],
   "source": [
    "print(\"\\\"Hello\\\"[0] = \",\"Hello\"[0])\n",
    "print(\"\\\"Hello\\\"[-1] = \",\"Hello\"[-1])\n",
    "print(\"\\\"Hello\\\"[2] = \",\"Hello\"[2])\n",
    "# going further than allowed produces an error!\n",
    "print(\"\\\"Hello\\\"[8] = Error!\")\n",
    "print(\"Hello\"[8])"
   ]
  },
  {
   "cell_type": "markdown",
   "metadata": {},
   "source": [
    "This may be your first Python error. This one is an index error.\n",
    "\n",
    "Python sees that the code tries to access a location outside of the arrays\n",
    "memmory. That is \"Hello\" is allocated in memory as a string of length $5$.\n",
    "\n",
    "Trying to get the $8$ character throws an IndexError, and tells us the line\n",
    "this occured on.\n",
    "\n",
    "If in doubt you can always find in similar pattern like\n",
    "```Python\n",
    "IndexError: string index out of range\n",
    "```\n",
    "An simply copy and Google this line to find out what may be going wrong.\n",
    "\n",
    "#### Here is another example error, SyntaxError"
   ]
  },
  {
   "cell_type": "code",
   "execution_count": 12,
   "metadata": {},
   "outputs": [
    {
     "ename": "SyntaxError",
     "evalue": "can't assign to literal (<ipython-input-12-cd8165ea70de>, line 1)",
     "output_type": "error",
     "traceback": [
      "\u001b[0;36m  File \u001b[0;32m\"<ipython-input-12-cd8165ea70de>\"\u001b[0;36m, line \u001b[0;32m1\u001b[0m\n\u001b[0;31m    1 = 4\u001b[0m\n\u001b[0m         ^\u001b[0m\n\u001b[0;31mSyntaxError\u001b[0m\u001b[0;31m:\u001b[0m can't assign to literal\n"
     ]
    }
   ],
   "source": [
    "1 = 4"
   ]
  },
  {
   "cell_type": "markdown",
   "metadata": {},
   "source": [
    "To be sure we don't try to access non-existent \n",
    "indexes we can always get the length of a string by using the ```len()``` function, although\n",
    "we must be careful to remember Python starts at $0$!"
   ]
  },
  {
   "cell_type": "code",
   "execution_count": 18,
   "metadata": {},
   "outputs": [
    {
     "name": "stdout",
     "output_type": "stream",
     "text": [
      "o\n"
     ]
    }
   ],
   "source": [
    "len(\"Hello\")\n",
    "print(\"Hello\"[len(\"Hello\")-1]) # take off 1 to get the end"
   ]
  },
  {
   "cell_type": "markdown",
   "metadata": {},
   "source": [
    "To summaries what has happened above. The text is represented as a \"list\" of \n",
    "symbols stored \"in memory\". Imagine trying \n",
    "to read whatever is in each part of the list one element at a time\n",
    "as below.\n",
    "\n",
    "![alt text](array.svg)\n",
    "\n",
    "When asked for the first ($0$-th) box Python moves the arrow to the first position in memory and returns\n",
    "the value stored, \"H\", if it exists. \n",
    "```Python\n",
    "\"Hello\"[0]\n",
    "H\n",
    "```\n",
    "when asking for the (non existant) $8$th element, the memory is unallocated (or maybe used by something else) and so \n",
    "an error is returned.\n",
    "\n",
    "#### Lists\n",
    "\n",
    "This way of storing data is common and is actually called\n",
    "a ```list``` in Python. Notice we define them using\n",
    "```[]``` and access them just as we did with the strings before."
   ]
  },
  {
   "cell_type": "code",
   "execution_count": 44,
   "metadata": {},
   "outputs": [
    {
     "name": "stdout",
     "output_type": "stream",
     "text": [
      "['H', 'E', 'L', 'L', 'O']\n",
      "['H', 'E', 'L', 'L', 'O']\n",
      "H\n"
     ]
    },
    {
     "ename": "IndexError",
     "evalue": "list index out of range",
     "output_type": "error",
     "traceback": [
      "\u001b[0;31m---------------------------------------------------------------------------\u001b[0m",
      "\u001b[0;31mIndexError\u001b[0m                                Traceback (most recent call last)",
      "\u001b[0;32m<ipython-input-44-05127cc43f7a>\u001b[0m in \u001b[0;36m<module>\u001b[0;34m()\u001b[0m\n\u001b[1;32m      2\u001b[0m \u001b[0mprint\u001b[0m\u001b[0;34m(\u001b[0m\u001b[0mlist\u001b[0m\u001b[0;34m(\u001b[0m\u001b[0;34m\"HELLO\"\u001b[0m\u001b[0;34m)\u001b[0m\u001b[0;34m)\u001b[0m\u001b[0;34m\u001b[0m\u001b[0m\n\u001b[1;32m      3\u001b[0m \u001b[0mprint\u001b[0m\u001b[0;34m(\u001b[0m\u001b[0mlist\u001b[0m\u001b[0;34m(\u001b[0m\u001b[0;34m[\u001b[0m\u001b[0;34m\"H\"\u001b[0m\u001b[0;34m,\u001b[0m\u001b[0;34m\"E\"\u001b[0m\u001b[0;34m,\u001b[0m\u001b[0;34m\"L\"\u001b[0m\u001b[0;34m,\u001b[0m\u001b[0;34m\"L\"\u001b[0m\u001b[0;34m,\u001b[0m\u001b[0;34m\"O\"\u001b[0m\u001b[0;34m]\u001b[0m\u001b[0;34m)\u001b[0m\u001b[0;34m[\u001b[0m\u001b[0;36m0\u001b[0m\u001b[0;34m]\u001b[0m\u001b[0;34m)\u001b[0m\u001b[0;34m\u001b[0m\u001b[0m\n\u001b[0;32m----> 4\u001b[0;31m \u001b[0mprint\u001b[0m\u001b[0;34m(\u001b[0m\u001b[0mlist\u001b[0m\u001b[0;34m(\u001b[0m\u001b[0;34m[\u001b[0m\u001b[0;34m\"H\"\u001b[0m\u001b[0;34m,\u001b[0m\u001b[0;34m\"E\"\u001b[0m\u001b[0;34m,\u001b[0m\u001b[0;34m\"L\"\u001b[0m\u001b[0;34m,\u001b[0m\u001b[0;34m\"L\"\u001b[0m\u001b[0;34m,\u001b[0m\u001b[0;34m\"O\"\u001b[0m\u001b[0;34m]\u001b[0m\u001b[0;34m)\u001b[0m\u001b[0;34m[\u001b[0m\u001b[0;36m8\u001b[0m\u001b[0;34m]\u001b[0m\u001b[0;34m)\u001b[0m\u001b[0;34m\u001b[0m\u001b[0m\n\u001b[0m",
      "\u001b[0;31mIndexError\u001b[0m: list index out of range"
     ]
    }
   ],
   "source": [
    "print(list([\"H\",\"E\",\"L\",\"L\",\"O\"]))\n",
    "print(list(\"HELLO\"))\n",
    "print(list([\"H\",\"E\",\"L\",\"L\",\"O\"])[0])\n",
    "print(list([\"H\",\"E\",\"L\",\"L\",\"O\"])[8])"
   ]
  },
  {
   "cell_type": "markdown",
   "metadata": {},
   "source": [
    "We can also ask if a particular value is \"in\" a list using the Boolean operation ```in```"
   ]
  },
  {
   "cell_type": "code",
   "execution_count": 210,
   "metadata": {},
   "outputs": [
    {
     "name": "stdout",
     "output_type": "stream",
     "text": [
      "True\n",
      "True\n",
      "True\n",
      "False\n"
     ]
    }
   ],
   "source": [
    "print(\"H\" in [\"H\",\"E\",\"L\",\"L\",\"O\"])\n",
    "print(\"H\" in \"HELLO\")\n",
    "print(\"ELL\" in \"HELLO\") # automatically search for sub-strings\n",
    "print(\"ELL\" in [\"H\",\"E\",\"L\",\"L\",\"O\"])"
   ]
  },
  {
   "cell_type": "markdown",
   "metadata": {},
   "source": [
    "#### More lists and variables\n",
    "\n",
    "Just like with strings we can create lists of numbers"
   ]
  },
  {
   "cell_type": "code",
   "execution_count": 152,
   "metadata": {},
   "outputs": [
    {
     "name": "stdout",
     "output_type": "stream",
     "text": [
      "[1, 2, 3]\n",
      "True\n"
     ]
    }
   ],
   "source": [
    "print([1,2,3])\n",
    "print([1,2,3][2] > [1,2,3][0])"
   ]
  },
  {
   "cell_type": "markdown",
   "metadata": {},
   "source": [
    "Lists are great for strings and storing lots of numbers at once, but\n",
    "sometimes we want a single value on its own or to refer to a list\n",
    "without writing it all over again.\n",
    "\n",
    "To do this we use *variables* which store objects such as numbers, strings or even lists in the Python\n",
    "memory to be re-used or manipulated later.\n",
    "\n",
    "In Python we create a variable by using a symbol (name for the variable), the ```=``` symbol, and a *value* such \n",
    "as a number or list.\n",
    "\n",
    "Variables can have any \"name\" that is not a \"reserved word\", see\n",
    "below that we cannot use the key word ```and``` as a variable name"
   ]
  },
  {
   "cell_type": "code",
   "execution_count": 20,
   "metadata": {},
   "outputs": [
    {
     "name": "stdout",
     "output_type": "stream",
     "text": [
      "a =  2\n",
      "b =  5\n",
      "a > b  False\n",
      "c = a**b =  32\n",
      "a =  [1, 2, 3]\n",
      "a[-1] =  3\n"
     ]
    }
   ],
   "source": [
    "a = 2\n",
    "print(\"a = \",a)\n",
    "b = 5\n",
    "print(\"b = \",b)\n",
    "\n",
    "print(\"a > b \",a > b)\n",
    "c = a**b\n",
    "print(\"c = a**b = \",c)\n",
    "\n",
    "a = [1,2,3]\n",
    "print(\"a = \", a)\n",
    "print(\"a[-1] = \",a[-1])"
   ]
  },
  {
   "cell_type": "code",
   "execution_count": 21,
   "metadata": {},
   "outputs": [
    {
     "name": "stdout",
     "output_type": "stream",
     "text": [
      "[1, 2, 3]\n"
     ]
    }
   ],
   "source": [
    "# remember variables are stored in memory across cells in Jupyter notebooks\n",
    "print(a)"
   ]
  },
  {
   "cell_type": "code",
   "execution_count": 22,
   "metadata": {},
   "outputs": [
    {
     "ename": "SyntaxError",
     "evalue": "invalid syntax (<ipython-input-22-c60ae82d9a5b>, line 2)",
     "output_type": "error",
     "traceback": [
      "\u001b[0;36m  File \u001b[0;32m\"<ipython-input-22-c60ae82d9a5b>\"\u001b[0;36m, line \u001b[0;32m2\u001b[0m\n\u001b[0;31m    and = 5\u001b[0m\n\u001b[0m      ^\u001b[0m\n\u001b[0;31mSyntaxError\u001b[0m\u001b[0;31m:\u001b[0m invalid syntax\n"
     ]
    }
   ],
   "source": [
    "# and is reserved by the Python language\n",
    "and = 5"
   ]
  },
  {
   "cell_type": "markdown",
   "metadata": {},
   "source": [
    "#### Some list member functions\n",
    "\n",
    "Lists have some useful functions we can use such as ```.sort()``` and ```.append()```\n",
    "\n",
    "#### Try adding the numbers 0 on the end of ```my_list``` using ```.append()``` then sort this list with ```.sort()```"
   ]
  },
  {
   "cell_type": "code",
   "execution_count": null,
   "metadata": {},
   "outputs": [],
   "source": []
  },
  {
   "cell_type": "markdown",
   "metadata": {},
   "source": [
    "You should notice that after appending, $0$ is now part of list, and after sorting\n",
    "the numbers are in increasing order.\n",
    "\n",
    "In particular notice that these member functions (```.``` functions) have *changed* the list.\n",
    "\n",
    "This is because lists are *mutable* in Python.\n",
    "\n",
    "Strings are not mutable, see the example below."
   ]
  },
  {
   "cell_type": "code",
   "execution_count": 1,
   "metadata": {},
   "outputs": [
    {
     "name": "stdout",
     "output_type": "stream",
     "text": [
      "HELLO\n",
      "hello\n"
     ]
    }
   ],
   "source": [
    "a = \"HELLO\"\n",
    "b = a.lower()\n",
    "print(a) # a did not change\n",
    "print(b) # .lower() \"returned\" the mutated string"
   ]
  },
  {
   "cell_type": "markdown",
   "metadata": {},
   "source": [
    "#### Dictionaries\n",
    "\n",
    "The dictionary is another useful way of storing data. Like a list we can store many\n",
    "values.\n",
    "\n",
    "But unlike a list each value is given a string (or number) as a \"key\" and no\n",
    "ordering is assumed."
   ]
  },
  {
   "cell_type": "code",
   "execution_count": 39,
   "metadata": {},
   "outputs": [
    {
     "name": "stdout",
     "output_type": "stream",
     "text": [
      "{}\n",
      "{'number 1': 1}\n",
      "d[\"number 1\"] =  1\n"
     ]
    }
   ],
   "source": [
    "d = dict() # creates a dictionary\n",
    "print(d) # empty dictionary\n",
    "\n",
    "d[\"number 1\"] = 1 # store the key-value pair <\"number 1\",1> in d\n",
    "\n",
    "print(d)\n",
    "print(\"d[\\\"number 1\\\"] = \", d[\"number 1\"])"
   ]
  },
  {
   "cell_type": "markdown",
   "metadata": {},
   "source": [
    "Dictionaries are useful when we want to store values in no particular order.\n",
    "\n",
    "They have much faster search functions than in lists, since lists must search through sequentially\n",
    "while dictionaries may use more efficient algorithms (Wikipedia for more information)."
   ]
  },
  {
   "cell_type": "markdown",
   "metadata": {},
   "source": [
    "We can use the ```.keys()``` and ```.values()``` member functions to return the keys and values of\n",
    "a dictionary.\n",
    "\n",
    "The ```.``` indicates that this is a member function belonging to the dictionary object."
   ]
  },
  {
   "cell_type": "code",
   "execution_count": 40,
   "metadata": {},
   "outputs": [
    {
     "name": "stdout",
     "output_type": "stream",
     "text": [
      "d.keys() =  dict_keys(['number 1'])\n",
      "d.values() =  dict_values([1])\n"
     ]
    }
   ],
   "source": [
    "print(\"d.keys() = \",d.keys())\n",
    "print(\"d.values() = \",d.values())"
   ]
  },
  {
   "cell_type": "markdown",
   "metadata": {},
   "source": [
    "Searching for a particular key can be done using ```in```"
   ]
  },
  {
   "cell_type": "code",
   "execution_count": 47,
   "metadata": {},
   "outputs": [
    {
     "name": "stdout",
     "output_type": "stream",
     "text": [
      "True\n",
      "False\n"
     ]
    }
   ],
   "source": [
    "print(\"number 1\" in d)\n",
    "print(1 in d)"
   ]
  },
  {
   "cell_type": "markdown",
   "metadata": {},
   "source": [
    "Dictionaries are also useful if we want to be able to access data using a name (string object) rather than\n",
    "a possibly meaningless number."
   ]
  },
  {
   "cell_type": "markdown",
   "metadata": {},
   "source": [
    "### Control Flow\n",
    "\n",
    "Control flow is a way we can execute instructions in some order\n",
    "that repeats and/or only executes if some condition is met\n",
    "(conditional flow).\n",
    "\n",
    "In Python we can use for and while loops and if, else and elif for\n",
    "conditionals\n",
    "\n",
    "### if, else, and elif (and indentation)\n",
    "\n",
    "We can control a programm based on logic using \n",
    "```Python\n",
    "if statement1:\n",
    "    # do something\n",
    "elif statement2:\n",
    "    # do something else\n",
    "else:\n",
    "    # fall back to this\n",
    "    \n",
    "```\n",
    "So if statement1 is True we do the first part. If statement2\n",
    "is true and statement1 is false we do the seconds part, and if neither are true\n",
    "we do the last part. \n",
    "\n",
    "If both statement1 and statement2 are true then *only* the first part is done, the elif block\n",
    "is ignored.\n",
    "\n",
    "Notice the indentation of four spaces (one tab) on the newline\n",
    "after the ```:```. This is Python style and must be followed (or an IndentationError is thrown)\n",
    "\n",
    "#### Try making b be bigger than a to access the code in the \"else block\""
   ]
  },
  {
   "cell_type": "code",
   "execution_count": 45,
   "metadata": {},
   "outputs": [
    {
     "name": "stdout",
     "output_type": "stream",
     "text": [
      "4\n"
     ]
    }
   ],
   "source": [
    "a = 5 \n",
    "b = 1\n",
    "\n",
    "if a > b: # if a > b is true (a > b == True)\n",
    "    # then do\n",
    "    print(a - b)\n",
    "else: \n",
    "    print(\"a - b is negative\")"
   ]
  },
  {
   "cell_type": "markdown",
   "metadata": {},
   "source": [
    "Below is an example of both statements being true.\n",
    "\n",
    "We also use the ```pass``` keyword which simply does nothing. You can't just have\n",
    "an empty space though, see what happens if you remove ```pass```."
   ]
  },
  {
   "cell_type": "code",
   "execution_count": 50,
   "metadata": {},
   "outputs": [
    {
     "name": "stdout",
     "output_type": "stream",
     "text": [
      "a is even\n"
     ]
    }
   ],
   "source": [
    "a = 10\n",
    "if a % 2 == 0:\n",
    "    print(\"a is even\")\n",
    "elif a == 10:\n",
    "    print(\"a is a mutliple of 10\")\n",
    "else:\n",
    "    pass"
   ]
  },
  {
   "cell_type": "markdown",
   "metadata": {},
   "source": [
    "#### Use logical expressions (go up if you need a reminder) to form the correct statement for the if block below."
   ]
  },
  {
   "cell_type": "code",
   "execution_count": null,
   "metadata": {},
   "outputs": [],
   "source": [
    "a = 10\n",
    "if #complete the line\n",
    "    print(\"a is even and a multiple of 10\")"
   ]
  },
  {
   "cell_type": "markdown",
   "metadata": {},
   "source": [
    "The use of colons and indentation is a specific Python style, which is forced\n",
    "on you by the language. This is in the interest of uniformity of the language.\n",
    "In most other languages code can be written with any indentation for the most part,\n",
    "blocks of code (e.g under if and elif etc) are denoted by being enclosed in\n",
    "brackets.\n",
    "\n",
    "Most *integrated development environments (IDEs)* will have an auto-indent\n",
    "feature to help with this, and this environment (Jupyter notebook) does this by default\n",
    "when using Python.\n",
    "\n",
    "#### Read the code and error messages in the next cells then re-write the code below each one so that there is no error"
   ]
  },
  {
   "cell_type": "code",
   "execution_count": 50,
   "metadata": {},
   "outputs": [
    {
     "ename": "IndentationError",
     "evalue": "expected an indented block (<ipython-input-50-7015202cd870>, line 5)",
     "output_type": "error",
     "traceback": [
      "\u001b[0;36m  File \u001b[0;32m\"<ipython-input-50-7015202cd870>\"\u001b[0;36m, line \u001b[0;32m5\u001b[0m\n\u001b[0;31m    print(c - d)\u001b[0m\n\u001b[0m        ^\u001b[0m\n\u001b[0;31mIndentationError\u001b[0m\u001b[0;31m:\u001b[0m expected an indented block\n"
     ]
    }
   ],
   "source": [
    "# an error\n",
    "c = 1.0\n",
    "d = -3.0\n",
    "if c > d:\n",
    "print(c - d)"
   ]
  },
  {
   "cell_type": "code",
   "execution_count": 51,
   "metadata": {},
   "outputs": [],
   "source": [
    "# re-write the code here"
   ]
  },
  {
   "cell_type": "code",
   "execution_count": 52,
   "metadata": {},
   "outputs": [
    {
     "ename": "SyntaxError",
     "evalue": "invalid syntax (<ipython-input-52-9d7e7d91c9b3>, line 2)",
     "output_type": "error",
     "traceback": [
      "\u001b[0;36m  File \u001b[0;32m\"<ipython-input-52-9d7e7d91c9b3>\"\u001b[0;36m, line \u001b[0;32m2\u001b[0m\n\u001b[0;31m    if c > d\u001b[0m\n\u001b[0m            ^\u001b[0m\n\u001b[0;31mSyntaxError\u001b[0m\u001b[0;31m:\u001b[0m invalid syntax\n"
     ]
    }
   ],
   "source": [
    "# another error\n",
    "if c > d\n",
    "    print(c - d)"
   ]
  },
  {
   "cell_type": "code",
   "execution_count": 53,
   "metadata": {},
   "outputs": [],
   "source": [
    "# re-write the code here"
   ]
  },
  {
   "cell_type": "markdown",
   "metadata": {},
   "source": [
    "### For and While loops\n",
    "\n",
    "For and while loops allow us to execute code a number of times. The basic syntax\n",
    "of a for loop is\n",
    "```Python\n",
    "for index in range_of_numbers:\n",
    "    #do something\n",
    "```"
   ]
  },
  {
   "cell_type": "code",
   "execution_count": 51,
   "metadata": {},
   "outputs": [
    {
     "name": "stdout",
     "output_type": "stream",
     "text": [
      "1\n",
      "4\n",
      "9\n",
      "16\n",
      "25\n",
      "36\n",
      "49\n",
      "64\n",
      "81\n",
      "\n",
      "1\n",
      "4\n",
      "9\n",
      "16\n",
      "25\n",
      "36\n",
      "49\n",
      "64\n",
      "81\n"
     ]
    }
   ],
   "source": [
    "for i in range(1,10): # range is a useful function for for loops\n",
    "    print(i**2)\n",
    "\n",
    "print()\n",
    "    \n",
    "for i in [1,2,3,4,5,6,7,8,9]:\n",
    "    print(i**2)"
   ]
  },
  {
   "cell_type": "markdown",
   "metadata": {},
   "source": [
    "In for loops we specify a range using \"in\", and in while\n",
    "loops we use a manually defined counter.\n",
    "\n",
    "The range function as used above is a nice shorthand for creating ranges of numbers\n",
    "to iterate over.\n",
    "\n",
    "#### Write a for loop below to print the even numbers between 1 and 101.\n",
    "#### Use if and else statements, and range to do this!\n",
    "\n",
    "You can test if a number is even using the modulus operator i.e\n",
    "an even number % $2$ is $0$"
   ]
  },
  {
   "cell_type": "code",
   "execution_count": null,
   "metadata": {},
   "outputs": [],
   "source": []
  },
  {
   "cell_type": "markdown",
   "metadata": {},
   "source": [
    "A while loop is the other side of the coin, here we loop until a condition is no longer true. The basic syntax is\n",
    "```Python\n",
    "while condition: # while the condition is True\n",
    "    # do something\n",
    "```\n",
    "\n",
    "#### Beware while loops may continue for ever if set up incorrectly!\n",
    "\n",
    "A while loop is more useful if you don't know the exact number of steps to iterate (you can't write\n",
    "out a range of numbers befor running the code).\n",
    "\n",
    "For example imagine you are waiting for a user to input text, you may code a while loop\n",
    "that continually checks if the enter key is pressed (listens for a signal), then if enter is pressed \n",
    "exits the loop to interpret the inputted text."
   ]
  },
  {
   "cell_type": "code",
   "execution_count": 54,
   "metadata": {},
   "outputs": [
    {
     "name": "stdout",
     "output_type": "stream",
     "text": [
      "1\n",
      "4\n",
      "9\n",
      "16\n",
      "25\n",
      "36\n",
      "49\n",
      "64\n",
      "81\n"
     ]
    }
   ],
   "source": [
    "i = 1\n",
    "while i < 10:\n",
    "    print(i**2)\n",
    "    i += 1 # equivalent to i = i + 1"
   ]
  },
  {
   "cell_type": "markdown",
   "metadata": {},
   "source": [
    "#### Construct a while loop to print the odd numbers between 1 and 101\n",
    "make sure not to create an infinite loop"
   ]
  },
  {
   "cell_type": "code",
   "execution_count": null,
   "metadata": {},
   "outputs": [],
   "source": []
  },
  {
   "cell_type": "markdown",
   "metadata": {},
   "source": [
    "### Functions\n",
    "\n",
    "Functions are a useful tool for generalising code for multiple uses.\n",
    "\n",
    "Instead of just writing a long file with all the instructions\n",
    "in a sequential manner, it is better to generalise pieces of\n",
    "code into re-callable blocks called functions.\n",
    "\n",
    "In Python we define functions using \"def\""
   ]
  },
  {
   "cell_type": "code",
   "execution_count": 80,
   "metadata": {},
   "outputs": [
    {
     "data": {
      "text/plain": [
       "7"
      ]
     },
     "execution_count": 80,
     "metadata": {},
     "output_type": "execute_result"
    }
   ],
   "source": [
    "def AddArray(x): # notice def, the :, and the indentation of the function body\n",
    "    ret = 0 # the sum starts at 0\n",
    "    for i in range(0,len(x)): # len returns the number of items in a list\n",
    "        ret = ret + x[i] # add the i-th element of the array to ret\n",
    "    return ret # use the return keyword to signal the end of the function and the functions value\n",
    "\n",
    "AddArray([1,4,2])"
   ]
  },
  {
   "cell_type": "markdown",
   "metadata": {},
   "source": [
    "The ```return``` keyword is used to mark what the function should\n",
    "\"evaluate to\".\n",
    "\n",
    "The function name comes after the keyword ```def ``` and the\n",
    "input \"arguments\" are written in brackets ```()```\n",
    "\n",
    "Notice also that we do not have to say what type x is or what type the function returns. \n",
    "This is called *dynamic typing*. \n",
    "\n",
    "We can specify the type of a function's arguments and return type in Python but this is not needed.\n",
    "\n",
    "Compiled languages are often *statically typed* meaning we do have to specify the exact types of\n",
    "input arguments and return types for function so the code can be correctly compiled.\n",
    "\n",
    "Julia is a language that does both. By default it is dynamically typed like Python (and so about the same speed). \n",
    "But Julia complies while interpreting and if possible converts function into very efficient statically typed\n",
    "compiled code. So Julia can be many orders of magnitude faster than Python but still be as user friendly."
   ]
  },
  {
   "cell_type": "markdown",
   "metadata": {},
   "source": [
    "#### Default arguments, keyword arguments, and positional arguments\n",
    "\n",
    "When some arguments are common we can use default arguments\n",
    "as so."
   ]
  },
  {
   "cell_type": "code",
   "execution_count": 60,
   "metadata": {},
   "outputs": [
    {
     "name": "stdout",
     "output_type": "stream",
     "text": [
      "0\n",
      "1\n",
      "2\n",
      "3\n",
      "4\n",
      "5\n",
      "6\n",
      "7\n",
      "8\n",
      "9\n",
      "\n",
      "0\n",
      "1\n",
      "2\n",
      "3\n",
      "4\n",
      "5\n",
      "6\n",
      "7\n",
      "8\n",
      "9\n",
      "10\n",
      "11\n",
      "12\n",
      "13\n",
      "14\n"
     ]
    }
   ],
   "source": [
    "def PrintNumbers(n=10):\n",
    "    i = 0\n",
    "    while i < n:\n",
    "        print(i)\n",
    "        i += 1\n",
    "\n",
    "PrintNumbers()\n",
    "print()\n",
    "PrintNumbers(15)"
   ]
  },
  {
   "cell_type": "markdown",
   "metadata": {},
   "source": [
    "When default arguments are given we must put them at the end"
   ]
  },
  {
   "cell_type": "code",
   "execution_count": 58,
   "metadata": {},
   "outputs": [
    {
     "ename": "SyntaxError",
     "evalue": "non-default argument follows default argument (<ipython-input-58-c163c0c740f3>, line 1)",
     "output_type": "error",
     "traceback": [
      "\u001b[0;36m  File \u001b[0;32m\"<ipython-input-58-c163c0c740f3>\"\u001b[0;36m, line \u001b[0;32m1\u001b[0m\n\u001b[0;31m    def Fun(a=1,b):\u001b[0m\n\u001b[0m           ^\u001b[0m\n\u001b[0;31mSyntaxError\u001b[0m\u001b[0;31m:\u001b[0m non-default argument follows default argument\n"
     ]
    }
   ],
   "source": [
    "def Fun(a=1,b):\n",
    "    return a+b"
   ]
  },
  {
   "cell_type": "markdown",
   "metadata": {},
   "source": [
    "When passing arguments we can call them using their names or call them as *keyword* arguments or without\n",
    "as *positional* arguments . When\n",
    "doing this the position of arguments no longer matters."
   ]
  },
  {
   "cell_type": "code",
   "execution_count": 84,
   "metadata": {},
   "outputs": [
    {
     "name": "stdout",
     "output_type": "stream",
     "text": [
      "Fun2(a=4,c=1,b=4) =  7\n",
      "Fun2(1,2,3) =  0\n",
      "Fun2(3,1,2) =  2\n"
     ]
    }
   ],
   "source": [
    "def Fun2(a,b=5,c=2):\n",
    "    return a+b-c\n",
    "\n",
    "# notice we dont have to follow same poistions as in the definition (but you should for clarity)\n",
    "print(\"Fun2(a=4,c=1,b=4) = \",Fun2(a=4,c=1,b=4))\n",
    "print(\"Fun2(1,2,3) = \",Fun2(1,2,3)) # non-keyword so the position matters\n",
    "print(\"Fun2(3,1,2) = \",Fun2(3,1,2))"
   ]
  },
  {
   "cell_type": "markdown",
   "metadata": {},
   "source": [
    "#### Write a function that takes a starting integer u and an ending integer n and prints the even integers between these numbers\n",
    "\n",
    "#### Make the default behaviour print the even integers between 1 and 101"
   ]
  },
  {
   "cell_type": "code",
   "execution_count": null,
   "metadata": {},
   "outputs": [],
   "source": []
  },
  {
   "cell_type": "markdown",
   "metadata": {},
   "source": [
    "#### Copy the function definition into the next cell and modify the code to accept a string ```odd_or_even``` that determines whether the odd, even, or both integers are printed. \n",
    "\n",
    "#### You can test if strings are equal as in the example below."
   ]
  },
  {
   "cell_type": "code",
   "execution_count": 85,
   "metadata": {},
   "outputs": [
    {
     "data": {
      "text/plain": [
       "False"
      ]
     },
     "execution_count": 85,
     "metadata": {},
     "output_type": "execute_result"
    }
   ],
   "source": [
    "\"odd\" == \"even\""
   ]
  },
  {
   "cell_type": "markdown",
   "metadata": {},
   "source": [
    "### Modules (Using Other Peoples Code)\n",
    "\n",
    "Python is organised into banks of code called modules.\n",
    "\n",
    "Moduels can be made for you own purposes or you can import other\n",
    "peoples code. \n",
    "\n",
    "Some standard modules maintained by many collaborators are\n",
    "\n",
    "```Python\n",
    "numpy        # mathematics\n",
    "scipy        # useful tools aimed at scientists\n",
    "matplotlib   # plotting graphs\n",
    "sklearn      # machine learning/ data science algorithms\n",
    "pandas       # read, writing, and representing data (csv etc)\n",
    "```\n",
    "A module may be loaded using \n",
    "```Python\n",
    "import```"
   ]
  },
  {
   "cell_type": "code",
   "execution_count": 86,
   "metadata": {},
   "outputs": [
    {
     "name": "stdout",
     "output_type": "stream",
     "text": [
      "1.4142135623730951\n"
     ]
    }
   ],
   "source": [
    "import numpy\n",
    "print(numpy.sqrt(2))"
   ]
  },
  {
   "cell_type": "markdown",
   "metadata": {},
   "source": [
    "We use the ```.``` to access functions defined within a module library.\n",
    "\n",
    "It is also possible to import a single function or use a shorthand name.\n",
    "```Python\n",
    "import numpy as np # shorthand alias\n",
    "from numpy import sqrt # imports only sqrt rather than everything...\n",
    "```\n",
    "\n",
    "For example we can load numpy as np and load plt (for plotting)\n",
    "from matplotlib. \n",
    "\n",
    "Then we can use the numpy ```linspace``` function to generate a\n",
    "numpy array (special list) of equally space numbers between $0$\n",
    "and $10$. Apply the numpy square root operation to this array\n",
    "and plot the result."
   ]
  },
  {
   "cell_type": "code",
   "execution_count": 4,
   "metadata": {},
   "outputs": [
    {
     "data": {
      "text/plain": [
       "<matplotlib.legend.Legend at 0x7f0bb6e24160>"
      ]
     },
     "execution_count": 4,
     "metadata": {},
     "output_type": "execute_result"
    },
    {
     "data": {
      "image/png": "[encoded data removed]",
      "text/plain": [
       "<Figure size 432x288 with 1 Axes>"
      ]
     },
     "metadata": {
      "needs_background": "light"
     },
     "output_type": "display_data"
    }
   ],
   "source": [
    "import numpy as np # import numpy with the shorthand np\n",
    "from matplotlib import pyplot as plt # import pyplot from the module matplotlib and give it the name plt\n",
    "\n",
    "a = np.linspace(0,10,100) # 100 equally spaced numbers between 0 and 10\n",
    "b = np.sqrt(a) # compute the sqrt of each number in the array a elementwise\n",
    "plt.plot(a,b,label=\"sqrt(x)\") # plot a against b\n",
    "plt.legend() # adds the legend\n",
    "# if the plot does not display re-run the code"
   ]
  },
  {
   "cell_type": "markdown",
   "metadata": {},
   "source": [
    "### Your own Objects\n",
    "\n",
    "We can define our own Python objects using classes.\n",
    "\n",
    "An example class ```BookRef``` is defined below.\n",
    "\n",
    "```Python\n",
    "class BookRef:\n",
    "    def __init__(self,ISBN=\"\",Title=\"\"):\n",
    "        self.Title = Title\n",
    "        self.ISBN = ISBN\n",
    "```\n",
    "We begin with keyword ```class``` and the class name ```BookRef```, Python now\n",
    "associates this name with a user defined object type.\n",
    "\n",
    "The special function ```def __init__(self,...)``` is called a *constructor*\n",
    "\n",
    "This function creates the object, e.g for the numpy.array class ```np.array()``` is not defined (try it) as\n",
    "it requires at least one argument say ```np.array([])``` which creates an empty array from an empty list.\n",
    "\n",
    "In the same way ```BookRef()``` will *instantiate* an empty ```BookRef``` object with empty strings ```\"\"```\n",
    "as Title and ISBN but if we pass strings we can associate the passed values with the\n",
    "object instance, see below. \n",
    "\n",
    "```self``` is how an object refers to itself, the ISBN and Title passed to ```__init__``` are then used\n",
    "to construct the *member data* ```self.Title``` and ```self.ISBN```."
   ]
  },
  {
   "cell_type": "code",
   "execution_count": 62,
   "metadata": {},
   "outputs": [
    {
     "name": "stdout",
     "output_type": "stream",
     "text": [
      "Title:  \n",
      "ISBN:  \n",
      "\n",
      "\n",
      "Title:  Python\n",
      "ISBN:  142315342\n"
     ]
    }
   ],
   "source": [
    "class BookRef:\n",
    "    # constructer, must have the name __init__, and self as the first argument\n",
    "    def __init__(self,ISBN=\"\",Title=\"\"):\n",
    "        self.Title = Title # books name\n",
    "        self.ISBN = ISBN # the isbn numer for the book\n",
    "       \n",
    "    \n",
    "#empty BookRef\n",
    "Book1 = BookRef()\n",
    "print(\"Title: \", Book1.Title)\n",
    "print(\"ISBN: \", Book1.ISBN)\n",
    "print(\"\\n\")\n",
    "Book2 = BookRef(Title=\"Python\",ISBN=\"142315342\")\n",
    "print(\"Title: \", Book2.Title)\n",
    "print(\"ISBN: \", Book2.ISBN)"
   ]
  },
  {
   "cell_type": "markdown",
   "metadata": {},
   "source": [
    "Consider another example, the ```Circle``` class. \n",
    "\n",
    "We define member functions in the same way we write the constructer ```__init__``` except we\n",
    "choose any name we want, you must still pass ```self```.\n",
    "\n",
    "#### Modify the Circle class by uncommenting the ```.Area()``` member function to compute the area of the object using the standard formula"
   ]
  },
  {
   "cell_type": "code",
   "execution_count": 69,
   "metadata": {},
   "outputs": [
    {
     "name": "stdout",
     "output_type": "stream",
     "text": [
      "True\n"
     ]
    }
   ],
   "source": [
    "class Circle:\n",
    "    def __init__(self,Radius):\n",
    "        self.r = Radius\n",
    "        \n",
    "    def InCircle(self,xy):\n",
    "        # access this objects radius and see if xy is in the circle\n",
    "        if xy[0]**2 + xy[1]**2 < self.r:\n",
    "            return True\n",
    "        return False\n",
    "    #def Area():\n",
    "        # return the area\n",
    "        \n",
    "C = Circle(5.0)\n",
    "print(C.InCircle([1.0,1.0]))"
   ]
  },
  {
   "cell_type": "markdown",
   "metadata": {},
   "source": [
    "### Exercises\n",
    "\n",
    "Remeber you can always google for Python documentation if you don't know what a function\n",
    "does.\n",
    "\n",
    "Don't just google the answers of course...\n",
    "\n",
    "#### 1 FizzBuzz\n",
    "##### 1.1\n",
    "Write some code that prints the numbers 1 to 100, but if\n",
    "the number is a multiple of $3$ it must print ```Buzz```, if\n",
    "it is a multiple of $5$ it must print ```Fizz```, and if it's\n",
    "a multiple of both print ```FizzBuzz```"
   ]
  },
  {
   "cell_type": "code",
   "execution_count": null,
   "metadata": {},
   "outputs": [],
   "source": []
  },
  {
   "cell_type": "markdown",
   "metadata": {},
   "source": [
    "##### 1.2\n",
    "Re-factor your code to make a function that takes three numbers.\n",
    "The first for the number of integers to print and the last two\n",
    "for which multiples to print ```Fizz``` and ```Buzz``` (or both)."
   ]
  },
  {
   "cell_type": "code",
   "execution_count": null,
   "metadata": {},
   "outputs": [],
   "source": []
  },
  {
   "cell_type": "markdown",
   "metadata": {},
   "source": [
    "#### 2 Numpy arrays\n",
    "\n",
    "A numpy array (and also ndarray) represent arrays and matrices of\n",
    "numbers.\n",
    "\n",
    "Arrays can be defined by hand from lists using\n",
    "```Python\n",
    "np.array([])\n",
    "```\n",
    "Passing one list creates a one-dimensional vector from the list. If\n",
    "$D$ lists are passed these represent the $D$ rows of a matrix. \n",
    "\n",
    "The vector and matrix $v$ and $u$ \n",
    "\\begin{align*}\n",
    "    v = \\left[\n",
    "    \\begin{array}{ccccc}\n",
    "        1 & 2\n",
    "    \\end{array}\n",
    "    \\right], \\enspace\n",
    "        u = \\left[\n",
    "    \\begin{array}{cc}\n",
    "        1 & 2\\\\\n",
    "        3 & 4\n",
    "    \\end{array}\n",
    "    \\right]\n",
    "\\end{align*}\n",
    "are written as numpy.arrays as follows"
   ]
  },
  {
   "cell_type": "code",
   "execution_count": 100,
   "metadata": {},
   "outputs": [
    {
     "data": {
      "text/plain": [
       "array([1, 2])"
      ]
     },
     "execution_count": 100,
     "metadata": {},
     "output_type": "execute_result"
    }
   ],
   "source": [
    "v = np.array([1,2])\n",
    "v"
   ]
  },
  {
   "cell_type": "code",
   "execution_count": 101,
   "metadata": {},
   "outputs": [
    {
     "data": {
      "text/plain": [
       "array([[1, 2],\n",
       "       [3, 4]])"
      ]
     },
     "execution_count": 101,
     "metadata": {},
     "output_type": "execute_result"
    }
   ],
   "source": [
    "U = np.array([[1,2],[3,4]])\n",
    "U"
   ]
  },
  {
   "cell_type": "markdown",
   "metadata": {},
   "source": [
    "Matrix operations for multiplication, addition, dot product, and transpose etc\n",
    "are available. See wikipedia for a proper introduction. That is using $v$ and $U$ from above\n",
    "\n",
    "\\begin{align*}\n",
    "    v\\cdot v &= \\sum_{i=1}^{N}v_{i}v_{i} = 1\\times1+2\\times2 = 5 \\\\\n",
    "    (vU)_{j} &= \\sum_{i=1}^{N}v_{i}U_{ij}, \\text{  or  } \n",
    "    vU = \\left[\\begin{array}{cc}\n",
    "        7 & 10 \n",
    "    \\end{array}\\right]\\\\\n",
    "    U^{T} &= \\left[\\begin{array}{cc}\n",
    "        1 & 3 \\\\\n",
    "        2 & 4 \n",
    "        \\end{array}\\right]\\\\\n",
    "    U - UU &= \\left[\\begin{array}{cc}\n",
    "        1 & 2 \\\\\n",
    "        3 & 4 \n",
    "        \\end{array}\\right] - \\left[\\begin{array}{cc}\n",
    "        1 & 2 \\\\\n",
    "        3 & 4 \n",
    "        \\end{array}\\right]\\left[\\begin{array}{cc}\n",
    "        1 & 2 \\\\\n",
    "        3 & 4 \n",
    "        \\end{array}\\right] = \\left[\\begin{array}{cc}\n",
    "        1 & 2 \\\\\n",
    "        3 & 4 \n",
    "        \\end{array}\\right] - \\left[\\begin{array}{cc}\n",
    "        7 & 10 \\\\\n",
    "        15 & 22 \n",
    "        \\end{array}\\right] = \\left[\\begin{array}{cc}\n",
    "        -6 & -8 \\\\\n",
    "        -12 & -18 \n",
    "        \\end{array}\\right]\\\\ \n",
    "        \\text{or  }&= (U-UU)_{ij} = U_{ij} - \\sum_{k=1}^{N}U_{ik}U_{kj}\n",
    "\\end{align*}\n",
    "In Python this is written using ```np.dot``` for dot products and matrix multiplication, and ```np.transpose```\n",
    "for transposition as shown below."
   ]
  },
  {
   "cell_type": "code",
   "execution_count": 103,
   "metadata": {},
   "outputs": [
    {
     "name": "stdout",
     "output_type": "stream",
     "text": [
      "5 \n",
      "\n",
      "[ 7 10] \n",
      "\n",
      "[[1 3]\n",
      " [2 4]] \n",
      "\n",
      "[[ -6  -8]\n",
      " [-12 -18]] \n",
      "\n"
     ]
    }
   ],
   "source": [
    "print(np.dot(v,v),\"\\n\") # dot product\n",
    "print(np.dot(v,U),\"\\n\") # matrix/matrix-vector product is also np.dot()\n",
    "print(np.transpose(U),\"\\n\") # transpose\n",
    "print(U - np.dot(U,U),\"\\n\") # matrix addition/subtraction"
   ]
  },
  {
   "cell_type": "markdown",
   "metadata": {},
   "source": [
    "#### 2.1 \n",
    "\n",
    "Use a for loop to store the cosine of the integers 1 to 100 in a list.\n",
    "\n",
    "Search the numpy documentation to learn how to compute $cos(x)$\n",
    "\n",
    "Convert this list to a numpy array and plot the result.\n",
    "\n",
    "You will find either of the following functions useful for storing the values\n",
    "```Python\n",
    "np.zeros()\n",
    "\n",
    "a = []\n",
    "a.append(1) # append 1 to the empty list a\n",
    "print(a)    # prints [1]\n",
    "```"
   ]
  },
  {
   "cell_type": "code",
   "execution_count": null,
   "metadata": {},
   "outputs": [],
   "source": []
  },
  {
   "cell_type": "markdown",
   "metadata": {},
   "source": [
    "##### 2.2\n",
    "Write a function that takes in a square matrix, $A$, and an integer, $n$, and returns the $n$th power of $A$. Write the function so the default return value is $A^2$.\n",
    "\n",
    "Test your function with the matrix. \n",
    "\\begin{align*}\n",
    "\\left[\n",
    "\\begin{array}{ccc}\n",
    "-0.823 & 0.173 & \\frac{1}{\\pi}\\\\\n",
    "-0.5 & 0.11 & 0.2\\\\\n",
    "0.153 & 2/5 & \\frac{1}{\\mathcal{e}}\n",
    "\\end{array}\n",
    "\\right]\n",
    "\\end{align*}\n",
    "\n",
    "To find how to input $\\mathcal{e}$ and $\\pi$ (Eulers number and Pi) search the numpy documentation."
   ]
  },
  {
   "cell_type": "code",
   "execution_count": null,
   "metadata": {},
   "outputs": [],
   "source": []
  },
  {
   "cell_type": "markdown",
   "metadata": {},
   "source": [
    "##### 2.3 \n",
    "Use your function from 2.2 to plot the sum of the matrix elements \n",
    "of the powers of the matrix in 2.2\n",
    "\\begin{align*}\n",
    "\\sum_{j=1}^{3}\\sum_{i=1}^{3}A^n_{ij}\n",
    "\\end{align*}\n",
    "for each values of $n= 0,1,2,\\ldots,50$\n",
    "\n",
    "Search the numpy documentation for a function to calculate the sum of elements of a matrix."
   ]
  },
  {
   "cell_type": "markdown",
   "metadata": {},
   "source": [
    "##### 3 Limits, Derivatives, and Integrals\n",
    "\n",
    "A limit is the notion that some sum or sequences of numbers get closer (converge) to a fixed value.\n",
    "\n",
    "\n",
    "##### 3.1 \n",
    "\n",
    "Accumulate the values of the sequence $s_{n} = \\bigl(1+\\frac{1}{n}\\bigr)^{n}$ in an array for the values of $n$ from $1$ to $100$.\n",
    "\n",
    "Scatter plot the results along with the straight line $y=\\mathcal{e}$.\n",
    "\n",
    "You may find the function ```np.ones``` useful for plotting straight lines."
   ]
  },
  {
   "cell_type": "code",
   "execution_count": null,
   "metadata": {},
   "outputs": [],
   "source": []
  },
  {
   "cell_type": "markdown",
   "metadata": {},
   "source": [
    "##### 3.2\n",
    "\n",
    "In an array accumulate the values of the sums $\\sum_{n=1}^{N}\\frac{1}{n^2}$ where $N=100$, scatter plot the result. use ```plt.scatter```.\n",
    "\n",
    "On the same plot plot the straight line $y=\\frac{\\pi^{2}}{6}$"
   ]
  },
  {
   "cell_type": "code",
   "execution_count": null,
   "metadata": {},
   "outputs": [],
   "source": []
  },
  {
   "cell_type": "markdown",
   "metadata": {},
   "source": [
    "##### 3.3\n",
    "\n",
    "The derivative is a special limit of the value\n",
    "\\begin{align*}\n",
    "\\frac{f(x+h)-f(x)}{h}\n",
    "\\end{align*}\n",
    "as we take smaller and smaller values of the step size $h$ for a function $f$.\n",
    "\\begin{align*}\n",
    "\\lim_{h\\rightarrow 0}\\frac{f(x+h)-f(x)}{h}\n",
    "\\end{align*}\n",
    "This tells us how a function $f$ changes as a function of it's input argument $x$.\n",
    "\n",
    "Considering $f(x) = x^2$ plot its analytic derivative\n",
    "for the given values of $x$. \n",
    "\n",
    "Then work out how to compute the numerical derivative using the \n",
    "formula above and three different values of $h$, $h=1,0.1,0.01$, plot this on the same graph."
   ]
  },
  {
   "cell_type": "markdown",
   "metadata": {},
   "source": [
    "##### 3.4 \n",
    "\n",
    "An integral is just a sum of areas of rectangles underneath a curve.\n",
    "\n",
    "We can find integrals using rectangles as shown in the example code below for the integral\n",
    "\\begin{align*}\n",
    "\\int_{0}^{\\frac{\\pi}{2}}\\cos(x) dx\n",
    "\\end{align*}\n",
    "\n",
    "Find the analytic value of the integral above and work out how\n",
    "to approximate it using the arrays ```X``` and ```Y``` given in the\n",
    "example code."
   ]
  },
  {
   "cell_type": "code",
   "execution_count": 6,
   "metadata": {},
   "outputs": [
    {
     "data": {
      "image/png": "[encoded data removed]",
      "text/plain": [
       "<Figure size 1080x360 with 4 Axes>"
      ]
     },
     "metadata": {
      "needs_background": "light"
     },
     "output_type": "display_data"
    }
   ],
   "source": [
    "import matplotlib.patches as patches\n",
    "N = 100\n",
    "X = np.linspace(0,np.pi/2,N)\n",
    "Y = np.cos(X)\n",
    "# set up a figure with 4 subplots\n",
    "fig,ax = plt.subplots(ncols=4,figsize=(15,5))\n",
    "# enumerate the range so we get the numbers 10,25,50, and\n",
    "# 100 for n along with the iteration number i\n",
    "for (i,n) in enumerate([10,25,50,100]):\n",
    "    # plot the values for X and Y (N=100)\n",
    "    # on the i-th subplot\n",
    "    ax[i].plot(X,Y,label=\"y=cos(x)\")\n",
    "    ax[i].legend()\n",
    "    for j in range(0,n-1):\n",
    "        # plot the boxes using the \n",
    "        # step size n from the outer for loop\n",
    "        x = np.linspace(0,np.pi/2,n)\n",
    "        y = np.cos(x)\n",
    "        rect = patches.Rectangle((x[j],0),x[j+1]-x[j],y[j],facecolor='r')\n",
    "        ax[i].add_patch(rect)"
   ]
  },
  {
   "cell_type": "code",
   "execution_count": null,
   "metadata": {},
   "outputs": [],
   "source": []
  },
  {
   "cell_type": "markdown",
   "metadata": {},
   "source": [
    "#### 4 Advanced for loops (List comprehensions)\n",
    "\n",
    "A list comprehension is a single line for loop which makes list\n",
    "construction clean and compact.\n",
    "\n",
    "Below a is coded example which constructs a numpy array\n",
    "containing the first N square numbers. \n",
    "\n",
    "First the list comprehension is used which returns a list type\n",
    "```Python\n",
    "[i**2 for i in range(0,N)]\n",
    "```\n",
    "Then it is converted to a numpy.array\n",
    "```Python\n",
    "np.array([i**2 for i in range(0,N)])\n",
    "```"
   ]
  },
  {
   "cell_type": "code",
   "execution_count": 87,
   "metadata": {},
   "outputs": [
    {
     "data": {
      "text/plain": [
       "array([ 0,  1,  4,  9, 16, 25, 36, 49, 64, 81])"
      ]
     },
     "execution_count": 87,
     "metadata": {},
     "output_type": "execute_result"
    }
   ],
   "source": [
    "N = 10\n",
    "A = np.array([i**2 for i in range(0,N)])\n",
    "A"
   ]
  },
  {
   "cell_type": "markdown",
   "metadata": {},
   "source": [
    "By way of a nested list comprehension construct the $N\\times N$ matrix\n",
    "\\begin{align*}\n",
    "B_{ij} = ij, \\enspace i,j = 1,2,\\ldots,N\n",
    "\\end{align*}\n",
    "remember Python starts from $0$ but the mathematical convention is to index from 1\n",
    "\n",
    "Confirm the $N=2$ and $N=3$ cases look like\n",
    "\\begin{align*}\n",
    "\\left[\n",
    "\\begin{array}{cc}\n",
    "1 & 1 \\\\\n",
    "2 & 4\n",
    "\\end{array}\n",
    "\\right], \\enspace\n",
    "\\left[\n",
    "\\begin{array}{ccc}\n",
    "1 & 2 & 3\\\\\n",
    "2 & 4 & 6\\\\\n",
    "3 & 6 & 9\n",
    "\\end{array}\n",
    "\\right]\n",
    "\\end{align*}"
   ]
  },
  {
   "cell_type": "code",
   "execution_count": null,
   "metadata": {},
   "outputs": [],
   "source": []
  },
  {
   "cell_type": "markdown",
   "metadata": {},
   "source": [
    "##### 5 Random Numbers\n",
    "\n",
    "Psuedo-random numbers can be generated using the ```numpy``` library ```numpy.random```\n",
    "the ```rand``` function gives uniform (equally probable) random numbers from 0 to 1, whilst the ```randn```\n",
    "function gives Gaussian numbers.\n",
    "\n",
    "##### 5.1\n",
    "\n",
    "Generate 10000 uniform random numbers between -2 and 2 use ```plt.hist``` to check the result."
   ]
  },
  {
   "cell_type": "code",
   "execution_count": null,
   "metadata": {},
   "outputs": [],
   "source": []
  },
  {
   "cell_type": "markdown",
   "metadata": {},
   "source": [
    "##### 5.2\n",
    "\n",
    "```randn``` can be used to create random matrices as well, by passing ```randn(2,2)``` a square $2\\times 2$\n",
    "random matrix is produced.\n",
    "\n",
    "Colour images are $X\\times Y\\times C$ matrices, the dimensions represent the $X$ position, the $Y$ position\n",
    "and the color values (Often RGB: Red Green Blue) $C$ of each pixel.\n",
    "\n",
    "Generate a $10\\times10\\times3$ random matrix using ```randn``` and plot the image using\n",
    "```plt.imshow```"
   ]
  },
  {
   "cell_type": "markdown",
   "metadata": {},
   "source": [
    "##### 5.3\n",
    "\n",
    "The Ornstein–Uhlenbeck process is a stochastic (random) process which \n",
    "\"reverts\" to a mean value $\\mu$ with a strength parameter $\\theta$\n",
    "\n",
    "The process is defined by the stochastic differential equation\n",
    "\\begin{align*}\n",
    "    dB_{t} = \\theta(\\mu-B_{t}) + \\sigma dW_{t}\n",
    "\\end{align*}\n",
    "Where dW is a Wiener process and we will choose $\\sigma=\\sqrt{dt}$\n",
    "\n",
    "Using a for loop we can integrate this equation by accumulating values in an array.\n",
    "\n",
    "At each step we want to calculate the differential $\\theta(\\mu-B_{t})dt + \\sqrt{dt} dW_{t}$ and \n",
    "add this to the last time step i.e $B_{i+1} = B_{i} + \\theta(\\mu-B_{t})dt + \\sqrt{dt} dW_{t}$.\n",
    "\n",
    "The differential is simply the difference between the value of $B$ at the *discrete times* $i$ and $i+1$.\n",
    "\n",
    "Similarly $dt$ is the small increment of time represented by the discrete interval $i\\rightarrow i+1$\n",
    "\n",
    "The Weiner process part $+ \\sqrt{dt} dW_{t}$ is done for you in the comment, remove the comment symbol and complete\n",
    "the line in the for loop for the $B_{i+1} = B_{i} + \\theta(\\mu-B_{t})dt$ part.\n",
    "\n",
    "Then plot the result."
   ]
  },
  {
   "cell_type": "code",
   "execution_count": 3,
   "metadata": {},
   "outputs": [],
   "source": [
    "dt = 0.01\n",
    "T = 100\n",
    "B = np.zeros(int(T/dt))\n",
    "θ = 0.5\n",
    "μ = 0\n",
    "σ = np.sqrt(dt)\n",
    "\n",
    "for i in range(0,B.shape[0]-1):\n",
    "    # + np.sqrt(dt)*np.random.randn()\n"
   ]
  },
  {
   "cell_type": "markdown",
   "metadata": {},
   "source": [
    "#### 5.4\n",
    "\n",
    "Monte-Carlo algorithms are based on repeated sampling of random numbers\n",
    "\n",
    "We can develop a (slow...) algorithm for computing $\\pi$ using this method.\n",
    "\n",
    "We throw darts at a dartboard randomly that always hit the board or its square backing. \n",
    "\n",
    "If the circular region of the board has radius $0.5$ and it\n",
    "sits in a square of side length $1.0$. The number that hit the circle \n",
    "compared to the square back should be proportional to the area of the circle compared to the area\n",
    "of the square, if the darts are thrown from a uniform random distribution.\n",
    "\n",
    "So\n",
    "\\begin{align*}\n",
    "    \\frac{N_{in}}{N_{out}} \\sim \\frac{1}{\\pi (0.5)^2}\n",
    "\\end{align*}\n",
    "\n",
    "Therefore if we make a for loop and each iteration generate $2$ uniform random numbers, $u_{1}$ and\n",
    "$u_{2}$ and keep track of how many times $u_{1}^{2}+u_{2}^{2}<=1$. We can approximate $\\pi$.\n",
    "\n",
    "Code this up below, see how many iterations you need to get a rounded answer of $3.14$."
   ]
  },
  {
   "cell_type": "code",
   "execution_count": null,
   "metadata": {},
   "outputs": [],
   "source": []
  },
  {
   "cell_type": "markdown",
   "metadata": {},
   "source": [
    "##### 6 Conditional Control\n",
    "\n",
    "The Barnsley fern is a handcrafted fractal pattern generated from\n",
    "a specific set of \"affine transformations\".\n",
    "\n",
    "Below is some incomplete code to generate the fractal.\n",
    "\n",
    "There are four transformations (on the 2D coordinate) which are\n",
    "apply with the probabilities\n",
    "\n",
    "$0.02,0.84,0.07,0.07$ for $f_{1},f_{2},f_{3},f_{4}$\n",
    "\n",
    "By using the uniform random number r and converting the \n",
    "comments in the\n",
    "```if``` and ```elif``` condition statements to code, apply one of f1 to f4 each iteration with the given probabilities.\n",
    "\n",
    "Add some code to scatter plot the lists ```X``` and ```Y```"
   ]
  },
  {
   "cell_type": "code",
   "execution_count": 93,
   "metadata": {},
   "outputs": [
    {
     "ename": "SyntaxError",
     "evalue": "invalid syntax (<ipython-input-93-3a5683babec8>, line 4)",
     "output_type": "error",
     "traceback": [
      "\u001b[0;36m  File \u001b[0;32m\"<ipython-input-93-3a5683babec8>\"\u001b[0;36m, line \u001b[0;32m4\u001b[0m\n\u001b[0;31m    r = #\u001b[0m\n\u001b[0m         ^\u001b[0m\n\u001b[0;31mSyntaxError\u001b[0m\u001b[0;31m:\u001b[0m invalid syntax\n"
     ]
    }
   ],
   "source": [
    "X = [0]\n",
    "Y = [0]\n",
    "for n in range(100000):\n",
    "    r = #\n",
    "    if  # r is less than or equal to 0.01\n",
    "        # this applies f1\n",
    "        x = 0\n",
    "        y = 0.16*Y[n-1]\n",
    "    elif # r is less than or equal to 0.86\n",
    "        # this applies f2\n",
    "        x = 0.85*X[n-1] + 0.04*Y[n-1]\n",
    "        y = -0.04*X[n-1] + 0.85*Y[n-1]+1.6\n",
    "    elif # r is less than or equal to0.93\n",
    "        # this applies f3\n",
    "        x = 0.2*X[n-1] - 0.26*Y[n-1]\n",
    "        y = 0.23*X[n-1] + 0.22*Y[n-1] + 1.6\n",
    "    else:\n",
    "        # this applies f4\n",
    "        x = -0.15*X[n-1] + 0.28*Y[n-1]\n",
    "        y = 0.26*X[n-1] + 0.24*Y[n-1] + 0.44\n",
    "    X.append(x);Y.append(y)\n",
    "    \n",
    "# plotting"
   ]
  },
  {
   "cell_type": "markdown",
   "metadata": {},
   "source": [
    "#### 7 Recursion, Dynamic Programming and Runtime\n",
    "\n",
    "Recursion is a style of algorithm where a function calls itself.\n",
    "\n",
    "For example, we may compute the Fibonnaci numbers using recursion. Recall that the $n$-th Fibonacci number\n",
    "is\n",
    "\\begin{align*}\n",
    "    F_{n} = F_{n-1}+F_{n-2}, \\enspace \\text{  for  } n\\geq2, \\enspace F_{0} = 0, F_{1} = 1\n",
    "\\end{align*}\n",
    "The recusive algorithm will either return $n$ if $n$ is $0$ or $1$ and otherwise\n",
    "will call itself like the definition above. \n",
    "\n",
    "#### 7.1\n",
    "\n",
    "Complete the recusrive algorithm below. Then print the first $10$ Fibonnaci numbers using a loop to check \n",
    "your function."
   ]
  },
  {
   "cell_type": "code",
   "execution_count": 129,
   "metadata": {},
   "outputs": [],
   "source": [
    "def F(n):\n",
    "    if # complete the statement\n",
    "        return # complete the statement\n",
    "    else: \n",
    "        return # complete the statement"
   ]
  },
  {
   "cell_type": "code",
   "execution_count": null,
   "metadata": {},
   "outputs": [],
   "source": [
    "# write your loop here"
   ]
  },
  {
   "cell_type": "markdown",
   "metadata": {},
   "source": [
    "The recursion algorithm can be visaulised as a call tree as in the diagram below. \n",
    "\n",
    "The function traverses\n",
    "the branches until it reaches the constant numbers are the leaves. \n",
    "\n",
    "Then the leaf values are added together \n",
    "to evaluate the call at the top of the tree.\n",
    "\n",
    "![alttext](recursion.svg)"
   ]
  },
  {
   "cell_type": "markdown",
   "metadata": {},
   "source": [
    "#### 7.2\n",
    "\n",
    "We can time code using the ```time``` module and it's function ```time.time()```. This gets the current\n",
    "time.\n",
    "\n",
    "By making a timestamp ```tic = time.time()``` we can work out the runtime. \n",
    "\n",
    "Use ```time.time()``` and ```tic``` to complete the print statement to print the runtime of ```F(30)```\n",
    "you should get about $0.6$ seconds."
   ]
  },
  {
   "cell_type": "code",
   "execution_count": 96,
   "metadata": {},
   "outputs": [
    {
     "name": "stdout",
     "output_type": "stream",
     "text": [
      "Run time in seconds:  0.5945262908935547\n"
     ]
    }
   ],
   "source": [
    "import time # time is a module that allows you to time your code using time.time\n",
    "tic = time.time() # get the current time\n",
    "F(30) # compute the function\n",
    "\n",
    "#complete the print statement\n",
    "print(\"Run time in seconds: \", )"
   ]
  },
  {
   "cell_type": "markdown",
   "metadata": {},
   "source": [
    "#### 7.3 \n",
    "Looking at the runtime and the large number of *duplicated function calls* in the call tree above, you may\n",
    "wonder if we can speed up the process by storing already seen values of $F(n)$.\n",
    "\n",
    "This is called *memoisation*. It is a quick way to speed up code significantly in many problems.\n",
    "\n",
    "Below we will use a *cache* dictionary to store previously computed values of $F(n)$.\n",
    "\n",
    "Finish the else block by filling in the ```##``` comments"
   ]
  },
  {
   "cell_type": "code",
   "execution_count": 97,
   "metadata": {},
   "outputs": [
    {
     "data": {
      "text/plain": [
       "832040"
      ]
     },
     "execution_count": 97,
     "metadata": {},
     "output_type": "execute_result"
    }
   ],
   "source": [
    "cache = dict()\n",
    "def F_memoised(n,cache):\n",
    "    if n in cache:\n",
    "        # if n has been seen don't re-compute it\n",
    "        return cache[n]\n",
    "    elif n < 2:\n",
    "        # if n < 2 return it\n",
    "        return n\n",
    "    else:\n",
    "        # add the new value of F(n) recursively\n",
    "        ## complete the line\n",
    "        # return the value of cache[n]\n",
    "        return ## complete the line\n",
    "F_memoised(30,cache) "
   ]
  },
  {
   "cell_type": "markdown",
   "metadata": {},
   "source": [
    "Now we should a runtime decrease of several orders of magnitude!"
   ]
  },
  {
   "cell_type": "code",
   "execution_count": 119,
   "metadata": {},
   "outputs": [
    {
     "name": "stdout",
     "output_type": "stream",
     "text": [
      "Run time in seconds:  0.00010657310485839844\n"
     ]
    }
   ],
   "source": [
    "cache = dict()\n",
    "tic = time.time()\n",
    "F_memoised(30,cache)\n",
    "print(\"Run time in seconds: \",time.time()-tic)"
   ]
  },
  {
   "cell_type": "markdown",
   "metadata": {},
   "source": [
    "#### 7.4 \n",
    "\n",
    "Lets see the full affect by plotting the *computational complexity* graph (how long it takes to run based\n",
    "on the size of $n$).\n",
    "\n",
    "Complete the for loop and add some plotting code in the cell below it, then run both"
   ]
  },
  {
   "cell_type": "code",
   "execution_count": 107,
   "metadata": {},
   "outputs": [],
   "source": [
    "f = [] # times for f\n",
    "f_m = [] # times for memoised f\n",
    "x = np.arange(2,31) # an array of number [2,3,...,30]\n",
    "for n in x:\n",
    "    # complete the for loop body\n",
    "    # by timing f and f_m separately\n",
    "    # for the value of n and appending to the arrays"
   ]
  },
  {
   "cell_type": "code",
   "execution_count": 121,
   "metadata": {},
   "outputs": [],
   "source": [
    "#plotting code here"
   ]
  },
  {
   "cell_type": "markdown",
   "metadata": {},
   "source": [
    "The efficiency gains are incredible, infact we can calculate $F(1000)$ using the memoised function easily.\n",
    "\n",
    "#### Don't try this with the non-memoised one!"
   ]
  },
  {
   "cell_type": "code",
   "execution_count": 124,
   "metadata": {},
   "outputs": [
    {
     "name": "stdout",
     "output_type": "stream",
     "text": [
      "Run time in seconds:  0.006970643997192383\n"
     ]
    }
   ],
   "source": [
    "# super long number...\n",
    "Fib1000 = 43466557686937456435688527675040625802564660517371780402481729089536555417949051890403879840079255169295922593080322634775209689623239873322471161642996440906533187938298969649928516003704476137795166849228875\n",
    "cache = dict()\n",
    "tic = time.time()\n",
    "F_memoised(1000,cache) == Fib1000\n",
    "print(\"Run time in seconds: \",time.time()-tic)"
   ]
  },
  {
   "cell_type": "markdown",
   "metadata": {},
   "source": [
    "#### 8 Classes: Inheritance and Operator Overloading\n",
    "\n",
    "Below we will introduce a ```HyperSphere``` class to represent a Sphere in any dimension. Mathematically (Complitcatedly)\n",
    "\\begin{align*}\n",
    "    S_{d}(\\boldsymbol{c},r) = \\biggl\\{\\boldsymbol{x} : \\sqrt{\\sum_{i=1}^{d}(x_{i}-c_{i})^2} \\leq r\\biggr\\}\n",
    "\\end{align*}\n",
    "Meaning the set of points $\\boldsymbol{x} = [x_{1},x_{2},\\ldots,x_{d}]$ in $d$-dimensional space with distance\n",
    "$r$ from the $d$-dimensional point $\\boldsymbol{c} = [c_{1},c_{2},\\ldots,c_{d}]$. \n",
    "\n",
    "$d=2$ gives the interior of a circle, $d=3$ gives the interior of a sphere.\n",
    "\n",
    "We have the base Class written below, and a class ```Circle``` which *inherits* from ```HyperSphere```. In \n",
    "Python this relationship is written as \n",
    "```Python\n",
    "class Circle(HyperSphere):\n",
    "```\n",
    "\n",
    "Inheritance means that Circle retains functionality from HyperSphere.\n",
    "\n",
    "Notice that the ```Circle``` class has an empty definition but still has the ```self.radius``` and ```self.center``` member data (and\n",
    "of course the constructor) *inherited* from the ```HyperSphere``` class.\n",
    "\n",
    "#### 8.1\n",
    "\n",
    "In the copied definitions add a member function to both the ```Circle``` and ```Sphere``` classes to compute the area and volume\n",
    "respectively"
   ]
  },
  {
   "cell_type": "code",
   "execution_count": 105,
   "metadata": {},
   "outputs": [
    {
     "name": "stdout",
     "output_type": "stream",
     "text": [
      "4\n",
      "0.0\n"
     ]
    }
   ],
   "source": [
    "class HyperSphere:\n",
    "    def __init__(self,r=1.0,c=0.0):\n",
    "        self.radius = r\n",
    "        self.center = c\n",
    "        \n",
    "class Circle(HyperSphere):\n",
    "    pass\n",
    "\n",
    "class Sphere(HyperSphere):\n",
    "    pass\n",
    "\n",
    "C = Circle(4)\n",
    "print(C.radius)\n",
    "print(C.center)"
   ]
  },
  {
   "cell_type": "markdown",
   "metadata": {},
   "source": [
    "#### 8.2\n",
    "\n",
    "When we define classes we can also *overload* certain *operators* such as ```+```. \n",
    "\n",
    "For example we could \"add\" two HyperSphere objects in many ways, taking the union of their sets as defined in the maths above, creating a new HyperSphere with the sum of their radii, or something else.\n",
    "\n",
    "For a simpler example think of polynomials of positive powers (you could have negative). \n",
    "\\begin{align*}\n",
    "    p(x,n,a) = \\sum_{i=0}^{n}a_{i}x^{i} \n",
    "\\end{align*}\n",
    "We can represent $x^{2}+x+1$ as $p(x,2,[1,1,1])$ say, that is by a degree and a coefficient list. \n",
    "\n",
    "So all we need in the Polynomial class is an array and an integer.\n",
    "\n",
    "Below is an implementation of such a class, there is a constructor taking the degree ```n``` and the coefficients\n",
    "```a``` and saving them as member data to the coefficients and degree variable.\n",
    "\n",
    "Notice the ```__add__``` and ```__str__``` functions. There are underscores like with ```__init__``` indicating these are special.\n",
    "\n",
    "The ```__add__``` function\n",
    "is a special function that gives a purpose for ```+``` used with ```Polynomial``` objects. Whilst\n",
    "the ```__str__``` function tells Python how to \"convert\" Polynomials to string for printing etc.\n",
    "Try ```str(5.0)``` to see what ```__str__``` does for floats.\n",
    "\n",
    "Others exists for multiplication, equality and order tests.\n",
    "\n",
    "#### Complete the function ```Evaluate(self,x)``` to return the value of a Polynomial at some value of ```x```\n",
    "\n",
    "#### Add another function ```__eq__``` to overload ```==``` for two Polynomials. Assume Polynomials are equal if their coefficients are (don't worry if the degrees are actually different) i.e assume\n",
    "\\begin{align*}\n",
    "    0x^{4} + 0x^{3} + x^{2} + 1 = x^{2} + 1\n",
    "\\end{align*}\n",
    "\n",
    "#### Extension: If you're still interested try adding symbolic differentiation and integration to the Polynomial class"
   ]
  },
  {
   "cell_type": "code",
   "execution_count": 145,
   "metadata": {},
   "outputs": [
    {
     "name": "stdout",
     "output_type": "stream",
     "text": [
      "P1 =  1 + 1x^1 + 1x^2\n",
      "P2 =  1 + 0x^1 + 1x^2 + 1x^3\n",
      "P1 + P2 =  2 + 1x^1 + 1x^2 + 1x^3\n"
     ]
    },
    {
     "data": {
      "text/plain": [
       "True"
      ]
     },
     "execution_count": 145,
     "metadata": {},
     "output_type": "execute_result"
    }
   ],
   "source": [
    "class Polynomial:\n",
    "    def __init__(self,n=1.0,a=[1.0]):\n",
    "        self.coefficients = a\n",
    "        self.degree = n\n",
    "    def Evaluate(self,x):\n",
    "        pass\n",
    "    \n",
    "    # operators\n",
    "    def __str__(self):\n",
    "        # .format() replaces text in a string\n",
    "        s = \"{} + \".format(self.coefficients[0])\n",
    "        # loop for \"middle\" cases\n",
    "        for i in range(1,self.degree):\n",
    "            s += \"{}x^{}\".format(self.coefficients[i],i)\n",
    "            s += \" + \"\n",
    "        # finish with the ending to avoid a trailing +\n",
    "        s += \"{}x^{}\".format(self.coefficients[-1],self.degree)\n",
    "        # print as normal\n",
    "        return s\n",
    "    def __add__(self,P):\n",
    "        # we could truncate this by using numpy arrays\n",
    "        # try [1,2,3] + [4,5,6] to see we we cant just add the\n",
    "        # coefficient lists. Does this behaviour remind you of strings?\n",
    "        \n",
    "        # find which is biggest\n",
    "        new_degree = max(self.degree,P.degree)\n",
    "        # create the empty Polynomial to contain the result\n",
    "        result = Polynomial(new_degree,[])\n",
    "        for i in range(0,new_degree):\n",
    "            c = 0\n",
    "            if i < self.degree:\n",
    "                # self has this power so add its coefficient on\n",
    "                c += self.coefficients[i]\n",
    "            if i < P.degree:\n",
    "                # P has this power so add its coefficient on\n",
    "                c += P.coefficients[i]\n",
    "            # append c as the summed coefficient value\n",
    "            result.coefficients.append(c)\n",
    "        return result\n",
    "        \n",
    "P1 = Polynomial(2,[1,1,1])\n",
    "print(\"P1 = \",P1)\n",
    "\n",
    "P2 = Polynomial(3,[1,0,1,1])\n",
    "print(\"P2 = \", P2)\n",
    "\n",
    "P = P1 + P2\n",
    "print(\"P1 + P2 = \",P)"
   ]
  }
 ],
 "metadata": {
  "@webio": {
   "lastCommId": null,
   "lastKernelId": null
  },
  "kernelspec": {
   "display_name": "Python 3",
   "language": "python",
   "name": "python3"
  },
  "language_info": {
   "codemirror_mode": {
    "name": "ipython",
    "version": 3
   },
   "file_extension": ".py",
   "mimetype": "text/x-python",
   "name": "python",
   "nbconvert_exporter": "python",
   "pygments_lexer": "ipython3",
   "version": "3.6.8"
  }
 },
 "nbformat": 4,
 "nbformat_minor": 2
}
