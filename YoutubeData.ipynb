{
 "cells": [
  {
   "cell_type": "code",
   "execution_count": 1,
   "metadata": {},
   "outputs": [
    {
     "name": "stdout",
     "output_type": "stream",
     "text": [
      "/home/harvey/CharlotteExercises/Youtube/FRvideos.csv\n",
      "0\n",
      "/home/harvey/CharlotteExercises/Youtube/DEvideos.csv\n",
      "0\n",
      "/home/harvey/CharlotteExercises/Youtube/USvideos.csv\n",
      "49\n",
      "/home/harvey/CharlotteExercises/Youtube/GBvideos.csv\n",
      "18\n",
      "/home/harvey/CharlotteExercises/Youtube/CAvideos.csv\n",
      "0\n"
     ]
    }
   ],
   "source": [
    "import pandas as pd\n",
    "import glob\n",
    "import numpy as np\n",
    "\n",
    "DF = dict()\n",
    "for f in glob.glob(\"/home/harvey/CharlotteExercises/Youtube/*.csv\"):\n",
    "    print(str(f))\n",
    "    DF[f.split(\"/\")[-1].split(\".\")[0]] = pd.read_csv(f)\n",
    "    print(np.sum([\"Numberphile\" in s for s in DF[f.split(\"/\")[-1].split(\".\")[0]][\"channel_title\"]]))"
   ]
  },
  {
   "cell_type": "code",
   "execution_count": null,
   "metadata": {},
   "outputs": [],
   "source": []
  }
 ],
 "metadata": {
  "kernelspec": {
   "display_name": "Python 3",
   "language": "python",
   "name": "python3"
  },
  "language_info": {
   "codemirror_mode": {
    "name": "ipython",
    "version": 3
   },
   "file_extension": ".py",
   "mimetype": "text/x-python",
   "name": "python",
   "nbconvert_exporter": "python",
   "pygments_lexer": "ipython3",
   "version": "3.5.2"
  }
 },
 "nbformat": 4,
 "nbformat_minor": 2
}
